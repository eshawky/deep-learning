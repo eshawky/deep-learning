{
  "nbformat": 4,
  "nbformat_minor": 0,
  "metadata": {
    "colab": {
      "provenance": []
    },
    "kernelspec": {
      "name": "python3",
      "display_name": "Python 3"
    },
    "language_info": {
      "name": "python"
    },
    "accelerator": "GPU"
  },
  "cells": [
    {
      "cell_type": "code",
      "execution_count": 1,
      "metadata": {
        "colab": {
          "base_uri": "https://localhost:8080/"
        },
        "id": "wxTL-5wCfvGS",
        "outputId": "d2d4b277-4432-442b-e5fe-b44b0ad5b9ec"
      },
      "outputs": [
        {
          "output_type": "stream",
          "name": "stdout",
          "text": [
            "(60000, 28, 28) (60000,)\n",
            "(10000, 28, 28) (10000,)\n"
          ]
        }
      ],
      "source": [
        "import tensorflow as tf\n",
        "from tensorflow import keras\n",
        "from tensorflow.keras import Sequential, layers, optimizers, datasets\n",
        "from tensorflow.keras.layers import Dense, Conv2D, MaxPool2D, Dropout, Flatten\n",
        "import numpy as np\n",
        "import matplotlib.pyplot as plt\n",
        "\n",
        "(x_train, y_train), (x_test, y_test) = datasets.mnist.load_data()\n",
        "\n",
        "print(x_train.shape, y_train.shape)\n",
        "print(x_test.shape , y_test.shape)\n",
        "\n",
        "#Convert the labels into one-hot codes.\n",
        "num_classes = 10\n",
        "\n",
        "#Convert a 28 x 28 image into a 784 x 1 vector.\n",
        "#x_train = x_train.reshape(-1, 784)\n",
        "#x_test = x_test.reshape(-1, 784)\n",
        "\n",
        "x_train = x_train.reshape(x_train.shape[0], 28, 28, 1)\n",
        "x_test  = x_test.reshape(x_test.shape[0], 28, 28, 1)\n",
        "\n",
        "#Normalize image pixel values.\n",
        "x_train = x_train.astype('float32')/255\n",
        "x_test  = x_test.astype('float32')/255\n"
      ]
    },
    {
      "cell_type": "code",
      "source": [
        "model = Sequential() #Create a network sequence.\n",
        "\n",
        "##Add the first convolutional layer and pooling layer.\n",
        "model.add(Conv2D(filters=32,kernel_size = (5,5),strides = (1,1), padding = 'same',activation = tf.nn.relu,input_shape=(28, 28, 1) ))\n",
        "model.add(MaxPool2D(pool_size=(2,2), strides = (2,2), padding = 'valid'))\n",
        "\n",
        "##Add the second convolutional layer and pooling layer.\n",
        "model.add(Conv2D(filters=64,kernel_size = 3,strides = (1,1),padding = 'same',activation = tf.nn.relu))\n",
        "model.add(MaxPool2D(pool_size=(2,2), strides = (2,2), padding = 'valid'))\n",
        "\n",
        "##Add a dropout layer to reduce overfitting.\n",
        "model.add(Dropout(0.25))\n",
        "model.add(Flatten())\n",
        "\n",
        "##Add two fully connected layers.\n",
        "model.add(Dense(units=128,activation = tf.nn.relu))\n",
        "model.add(Dropout(0.5))\n",
        "model.add(Dense(units=10,activation = tf.nn.softmax))\n",
        "\n",
        "model.compile(optimizer=\"adam\",loss=\"sparse_categorical_crossentropy\",metrics=['accuracy'])\n"
      ],
      "metadata": {
        "id": "Mok_SCKEtxwl"
      },
      "execution_count": 2,
      "outputs": []
    },
    {
      "cell_type": "code",
      "source": [
        "history  = model.fit(x=x_train ,y=y_train ,epochs=10,batch_size=32)"
      ],
      "metadata": {
        "colab": {
          "base_uri": "https://localhost:8080/"
        },
        "id": "x0_k_znDhGbf",
        "outputId": "647943ce-4cf2-4669-8e84-45d18d7ec338"
      },
      "execution_count": 6,
      "outputs": [
        {
          "output_type": "stream",
          "name": "stdout",
          "text": [
            "Epoch 1/10\n",
            "1875/1875 [==============================] - 8s 4ms/step - loss: 0.0757 - accuracy: 0.9779\n",
            "Epoch 2/10\n",
            "1875/1875 [==============================] - 8s 4ms/step - loss: 0.0589 - accuracy: 0.9827\n",
            "Epoch 3/10\n",
            "1875/1875 [==============================] - 6s 3ms/step - loss: 0.0514 - accuracy: 0.9845\n",
            "Epoch 4/10\n",
            "1875/1875 [==============================] - 6s 3ms/step - loss: 0.0425 - accuracy: 0.9873\n",
            "Epoch 5/10\n",
            "1875/1875 [==============================] - 9s 5ms/step - loss: 0.0392 - accuracy: 0.9880\n",
            "Epoch 6/10\n",
            "1875/1875 [==============================] - 7s 4ms/step - loss: 0.0313 - accuracy: 0.9905\n",
            "Epoch 7/10\n",
            "1875/1875 [==============================] - 6s 3ms/step - loss: 0.0303 - accuracy: 0.9906\n",
            "Epoch 8/10\n",
            "1875/1875 [==============================] - 6s 3ms/step - loss: 0.0304 - accuracy: 0.9908\n",
            "Epoch 9/10\n",
            "1875/1875 [==============================] - 6s 3ms/step - loss: 0.0263 - accuracy: 0.9918\n",
            "Epoch 10/10\n",
            "1875/1875 [==============================] - 6s 3ms/step - loss: 0.0260 - accuracy: 0.9916\n"
          ]
        }
      ]
    },
    {
      "cell_type": "code",
      "source": [
        "plt.plot(history.history['accuracy'], label='accuracy')\n",
        "#plt.plot(history.history['loss'], label = 'loss')\n",
        "plt.xlabel('Epoch')\n",
        "plt.ylabel('Accuracy')\n",
        "plt.ylim([0.5, 1])\n",
        "plt.legend(loc='lower right')"
      ],
      "metadata": {
        "colab": {
          "base_uri": "https://localhost:8080/",
          "height": 300
        },
        "id": "k_fDIQox8sql",
        "outputId": "b3ccbfc4-51d9-4063-d609-7bc133fdcf22"
      },
      "execution_count": 10,
      "outputs": [
        {
          "output_type": "execute_result",
          "data": {
            "text/plain": [
              "<matplotlib.legend.Legend at 0x7f782d0bf190>"
            ]
          },
          "metadata": {},
          "execution_count": 10
        },
        {
          "output_type": "display_data",
          "data": {
            "text/plain": [
              "<Figure size 432x288 with 1 Axes>"
            ],
            "image/png": "[encoded data removed]"
          },
          "metadata": {
            "needs_background": "light"
          }
        }
      ]
    },
    {
      "cell_type": "code",
      "source": [
        "test_loss,test_acc=model.evaluate(x=x_test,y=y_test)\n",
        "print(\"Test Accuracy %.2f\"%test_acc)\n"
      ],
      "metadata": {
        "id": "wNcW88LvhAQh",
        "colab": {
          "base_uri": "https://localhost:8080/"
        },
        "outputId": "816e07b4-ff2f-48e3-e81a-704fa6485713"
      },
      "execution_count": 11,
      "outputs": [
        {
          "output_type": "stream",
          "name": "stdout",
          "text": [
            "313/313 [==============================] - 1s 3ms/step - loss: 0.0225 - accuracy: 0.9941\n",
            "Test Accuracy 0.99\n"
          ]
        }
      ]
    }
  ]
}