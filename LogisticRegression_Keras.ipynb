{
  "nbformat": 4,
  "nbformat_minor": 0,
  "metadata": {
    "colab": {
      "provenance": []
    },
    "kernelspec": {
      "name": "python3",
      "display_name": "Python 3"
    },
    "language_info": {
      "name": "python"
    }
  },
  "cells": [
    {
      "cell_type": "code",
      "execution_count": 1,
      "metadata": {
        "id": "bH0EtCgMpQPv"
      },
      "outputs": [],
      "source": [
        "import numpy as np\n",
        "import pandas as pd\n",
        "import matplotlib.pyplot as plt\n",
        "from   tensorflow import keras\n",
        "from   keras import Sequential, layers\n",
        "from   keras.layers import Dense\n",
        "from   keras.datasets import mnist"
      ]
    },
    {
      "cell_type": "code",
      "source": [
        "def sigmoid(x):\n",
        "    return 1/(1+np.exp(-x))"
      ],
      "metadata": {
        "id": "vRqbqYi_pUqq"
      },
      "execution_count": 2,
      "outputs": []
    },
    {
      "cell_type": "code",
      "source": [
        "#Check sigmoid for random dataset\n",
        "x = np.arange(-10,10,0.01)\n",
        "y = sigmoid(x)\n",
        "\n",
        "#plot the result\n",
        "plt.plot(x,y)\n",
        "plt.grid()"
      ],
      "metadata": {
        "colab": {
          "base_uri": "https://localhost:8080/",
          "height": 265
        },
        "id": "eN7oIdQTpgQH",
        "outputId": "42691bcb-44c5-40de-c28a-f28b7116f5df"
      },
      "execution_count": 3,
      "outputs": [
        {
          "output_type": "display_data",
          "data": {
            "text/plain": [
              "<Figure size 432x288 with 1 Axes>"
            ],
            "image/png": "[encoded data removed]"
          },
          "metadata": {
            "needs_background": "light"
          }
        }
      ]
    },
    {
      "cell_type": "code",
      "source": [
        "#in general sigmoid is applied to output of w*x+b\n",
        "#given a q,x, and b, test the sigmoid\n",
        "x = 100   #input feature value\n",
        "w = 0.001 # Weight\n",
        "b = 1     # Bias\n",
        "\n",
        "new_x  = w*x+b\n",
        "result = sigmoid(new_x) \n",
        "print (result)"
      ],
      "metadata": {
        "colab": {
          "base_uri": "https://localhost:8080/"
        },
        "id": "fKpLVG1RpzMD",
        "outputId": "564286ae-04a7-4640-aa0d-e0362b3a3c97"
      },
      "execution_count": 4,
      "outputs": [
        {
          "output_type": "stream",
          "name": "stdout",
          "text": [
            "0.7502601055951177\n"
          ]
        }
      ]
    },
    {
      "cell_type": "code",
      "source": [
        "#Load mnist dataset\n",
        "(x_train, y_train), (x_test, y_test) = mnist.load_data()\n",
        "print (\"train size: \", x_train.shape)\n",
        "print (\"test size: \", x_test.shape)"
      ],
      "metadata": {
        "colab": {
          "base_uri": "https://localhost:8080/"
        },
        "id": "hrXpUrsJqxvr",
        "outputId": "c75165b2-146c-4f08-d81e-4970a59d7f2e"
      },
      "execution_count": 5,
      "outputs": [
        {
          "output_type": "stream",
          "name": "stdout",
          "text": [
            "train size:  (60000, 28, 28)\n",
            "test size:  (10000, 28, 28)\n"
          ]
        }
      ]
    },
    {
      "cell_type": "code",
      "source": [
        "plt.imshow(x_train[0] , cmap='gray')\n",
        "print (\"label of first sample is: \", y_train[0])"
      ],
      "metadata": {
        "colab": {
          "base_uri": "https://localhost:8080/",
          "height": 282
        },
        "id": "lqym45varRBh",
        "outputId": "e173a501-df8a-465e-f7bd-4c2e4d4ef081"
      },
      "execution_count": 6,
      "outputs": [
        {
          "output_type": "stream",
          "name": "stdout",
          "text": [
            "label of first sample is:  5\n"
          ]
        },
        {
          "output_type": "display_data",
          "data": {
            "text/plain": [
              "<Figure size 432x288 with 1 Axes>"
            ],
            "image/png": "[encoded data removed]"
          },
          "metadata": {
            "needs_background": "light"
          }
        }
      ]
    },
    {
      "cell_type": "code",
      "source": [
        "#Since we are logistic regression, so we are working on binary classification problem\n",
        "#Hence, select only the data of two classes\n",
        "\n",
        "#Select only zeros and ones.\n",
        "x_train_new, y_train_new = x_train[(y_train==0) | (y_train==1)], y_train[(y_train==0) | (y_train==1)]\n",
        "\n",
        "#Do the same for the test set.\n",
        "x_test_new, y_test_new   = x_test[(y_test==0) | (y_test==1)], y_test[(y_test==0) | (y_test==1)]"
      ],
      "metadata": {
        "id": "_CsyV-fhreJs"
      },
      "execution_count": 7,
      "outputs": []
    },
    {
      "cell_type": "code",
      "source": [
        "#New shape of train and test after selecting the values of only zeros, and ones labels\n",
        "print(\"After:\")\n",
        "print(x_train_new.shape)\n",
        "print(x_test_new.shape)\n",
        "\n",
        "#Was \n",
        "print(\"\\nBefore:\")\n",
        "print(x_train.shape)\n",
        "print(x_test.shape)"
      ],
      "metadata": {
        "colab": {
          "base_uri": "https://localhost:8080/"
        },
        "id": "gDXyCBW0sNMI",
        "outputId": "7c5e0979-c4e2-41c4-c712-9b96bbdba485"
      },
      "execution_count": 8,
      "outputs": [
        {
          "output_type": "stream",
          "name": "stdout",
          "text": [
            "After:\n",
            "(12665, 28, 28)\n",
            "(2115, 28, 28)\n",
            "\n",
            "Before:\n",
            "(60000, 28, 28)\n",
            "(10000, 28, 28)\n"
          ]
        }
      ]
    },
    {
      "cell_type": "code",
      "source": [
        "#REshape the input image to be in vector format: 28*28=784\n",
        "x_train_new = x_train_new.reshape((-1, 784))\n",
        "x_test_new  = x_test_new.reshape((-1, 784))\n",
        "\n",
        "#Normalize the input train, and test by dividing on maximum value of pixels 255\n",
        "x_train_new = x_train_new / 255\n",
        "x_test_new  = x_test_new / 255"
      ],
      "metadata": {
        "id": "urjkc4DUryWM"
      },
      "execution_count": 9,
      "outputs": []
    },
    {
      "cell_type": "code",
      "source": [
        "model = Sequential()\n",
        "model.add(Dense(1, activation='sigmoid', input_shape=(784,)) )\n",
        "\n",
        "model.compile(optimizer='sgd', loss='binary_crossentropy', metrics=['binary_accuracy'])\n",
        "\n",
        "model.summary()\n"
      ],
      "metadata": {
        "colab": {
          "base_uri": "https://localhost:8080/"
        },
        "id": "mHbdatC-s2V2",
        "outputId": "bb6f07f4-6cc9-45ae-b581-144c2d5235a4"
      },
      "execution_count": 10,
      "outputs": [
        {
          "output_type": "stream",
          "name": "stdout",
          "text": [
            "Model: \"sequential\"\n",
            "_________________________________________________________________\n",
            " Layer (type)                Output Shape              Param #   \n",
            "=================================================================\n",
            " dense (Dense)               (None, 1)                 785       \n",
            "                                                                 \n",
            "=================================================================\n",
            "Total params: 785\n",
            "Trainable params: 785\n",
            "Non-trainable params: 0\n",
            "_________________________________________________________________\n"
          ]
        }
      ]
    },
    {
      "cell_type": "code",
      "source": [
        "#train the model\n",
        "history = model.fit( x=x_train_new, y=y_train_new, shuffle=True, epochs=10, batch_size=16)"
      ],
      "metadata": {
        "colab": {
          "base_uri": "https://localhost:8080/"
        },
        "id": "WMYBTWsLujMY",
        "outputId": "c03cf2d5-f09c-4cb3-acb7-bf1a2b233d0f"
      },
      "execution_count": 11,
      "outputs": [
        {
          "output_type": "stream",
          "name": "stdout",
          "text": [
            "Epoch 1/10\n",
            "792/792 [==============================] - 1s 1ms/step - loss: 0.0773 - binary_accuracy: 0.9908\n",
            "Epoch 2/10\n",
            "792/792 [==============================] - 2s 2ms/step - loss: 0.0215 - binary_accuracy: 0.9967\n",
            "Epoch 3/10\n",
            "792/792 [==============================] - 2s 2ms/step - loss: 0.0155 - binary_accuracy: 0.9974\n",
            "Epoch 4/10\n",
            "792/792 [==============================] - 2s 2ms/step - loss: 0.0128 - binary_accuracy: 0.9976\n",
            "Epoch 5/10\n",
            "792/792 [==============================] - 2s 3ms/step - loss: 0.0112 - binary_accuracy: 0.9978\n",
            "Epoch 6/10\n",
            "792/792 [==============================] - 2s 2ms/step - loss: 0.0101 - binary_accuracy: 0.9978\n",
            "Epoch 7/10\n",
            "792/792 [==============================] - 2s 3ms/step - loss: 0.0093 - binary_accuracy: 0.9979\n",
            "Epoch 8/10\n",
            "792/792 [==============================] - 2s 3ms/step - loss: 0.0086 - binary_accuracy: 0.9979\n",
            "Epoch 9/10\n",
            "792/792 [==============================] - 2s 3ms/step - loss: 0.0081 - binary_accuracy: 0.9980\n",
            "Epoch 10/10\n",
            "792/792 [==============================] - 2s 3ms/step - loss: 0.0077 - binary_accuracy: 0.9981\n"
          ]
        }
      ]
    },
    {
      "cell_type": "code",
      "source": [
        "#test the model using the predict method\n",
        "model.predict(x_test_new)"
      ],
      "metadata": {
        "colab": {
          "base_uri": "https://localhost:8080/"
        },
        "id": "JBn9eUXUvhE-",
        "outputId": "c077466c-d84a-4d9d-b475-50411afb9ac8"
      },
      "execution_count": 12,
      "outputs": [
        {
          "output_type": "execute_result",
          "data": {
            "text/plain": [
              "array([[9.9649727e-01],\n",
              "       [6.3753578e-05],\n",
              "       [9.9937230e-01],\n",
              "       ...,\n",
              "       [9.9963880e-01],\n",
              "       [3.5858154e-04],\n",
              "       [9.9975401e-01]], dtype=float32)"
            ]
          },
          "metadata": {},
          "execution_count": 12
        }
      ]
    },
    {
      "cell_type": "code",
      "source": [
        "#test the model using the evaluate method, and compare the result with actual labels: print the accuracy\n",
        "score = model.evaluate(x_test_new,y_test_new)\n",
        "print (\"prediction error   : \", score[0])\n",
        "print (\"prediction accuracy: \", score[1])"
      ],
      "metadata": {
        "colab": {
          "base_uri": "https://localhost:8080/"
        },
        "id": "3fMZypfSvn6B",
        "outputId": "12228555-f990-4aac-d702-1db7753de2a4"
      },
      "execution_count": 13,
      "outputs": [
        {
          "output_type": "stream",
          "name": "stdout",
          "text": [
            "67/67 [==============================] - 0s 1ms/step - loss: 0.0045 - binary_accuracy: 0.9991\n",
            "prediction error   :  0.004490404389798641\n",
            "prediction accuracy:  0.9990543723106384\n"
          ]
        }
      ]
    }
  ]
}